{
 "cells": [
  {
   "cell_type": "code",
   "execution_count": 2,
   "metadata": {},
   "outputs": [
    {
     "name": "stdout",
     "output_type": "stream",
     "text": [
      "Welcome to Guess the Number!\n",
      "I'm thinking of a number between 1 and 100.\n"
     ]
    },
    {
     "name": "stdout",
     "output_type": "stream",
     "text": [
      "Too high! Try again.\n",
      "Too high! Try again.\n",
      "Too high! Try again.\n",
      "Too low! Try again.\n",
      "Too low! Try again.\n",
      "Too high! Try again.\n",
      "Too high! Try again.\n",
      "Too high! Try again.\n",
      "Too high! Try again.\n",
      "Too low! Try again.\n",
      "Too low! Try again.\n",
      "Congratulations! You guessed the number 17 in 12 attempts!\n"
     ]
    }
   ],
   "source": [
    "import random\n",
    "\n",
    "def guess_the_number():\n",
    "    # Generate a random number between 1 and 100\n",
    "    secret_number = random.randint(1, 100)\n",
    "    attempts = 0\n",
    "    \n",
    "    print(\"Welcome to Guess the Number!\")\n",
    "    print(\"I'm thinking of a number between 1 and 100.\")\n",
    "\n",
    "    while True:\n",
    "        try:\n",
    "            guess = int(input(\"Take a guess: \"))\n",
    "            attempts += 1\n",
    "\n",
    "            if guess < secret_number:\n",
    "                print(\"Too low! Try again.\")\n",
    "            elif guess > secret_number:\n",
    "                print(\"Too high! Try again.\")\n",
    "            else:\n",
    "                print(f\"Congratulations! You guessed the number {secret_number} in {attempts} attempts!\")\n",
    "                break\n",
    "        except ValueError:\n",
    "            print(\"Invalid input. Please enter a valid number.\")\n",
    "\n",
    "if __name__ == \"__main__\":\n",
    "    guess_the_number()"
   ]
  },
  {
   "cell_type": "code",
   "execution_count": 5,
   "metadata": {},
   "outputs": [
    {
     "name": "stdout",
     "output_type": "stream",
     "text": [
      "Bot: Hello! Type 'bye' to exit.\n",
      "Bot: Goodbye!\n"
     ]
    }
   ],
   "source": [
    "import random\n",
    "\n",
    "# Define a list of possible user inputs and corresponding bot responses\n",
    "conversations = {\n",
    "    \"hello\": [\"Hello!\", \"Hi there!\", \"Hey!\"],\n",
    "    \"how are you\": [\"I'm doing well, thanks!\", \"I'm just a computer program, but I'm here to help!\"],\n",
    "    \"what's your name\": [\"I'm a chatbot.\", \"I don't have a name, but you can call me Bot.\"],\n",
    "    \"bye\": [\"Goodbye!\", \"See you later!\", \"Bye!\"],\n",
    "}\n",
    "\n",
    "# Function to respond to user input\n",
    "def respond(input_text):\n",
    "    input_text = input_text.lower()  # Convert user input to lowercase\n",
    "    for key, responses in conversations.items():\n",
    "        if key in input_text:\n",
    "            return random.choice(responses)\n",
    "    return \"I'm sorry, I don't understand that.\"\n",
    "\n",
    "# Main loop to interact with the chatbot\n",
    "print(\"Bot: Hello! Type 'bye' to exit.\")\n",
    "while True:\n",
    "    user_input = input(\"You: \")\n",
    "    if user_input.lower() == 'bye':\n",
    "        print(\"Bot: Goodbye!\")\n",
    "        break\n",
    "    response = respond(user_input)\n",
    "    print(\"Bot:\", response)"
   ]
  },
  {
   "cell_type": "code",
   "execution_count": 1,
   "metadata": {},
   "outputs": [
    {
     "ename": "NameError",
     "evalue": "name 'pygame' is not defined",
     "output_type": "error",
     "traceback": [
      "\u001b[1;31m---------------------------------------------------------------------------\u001b[0m",
      "\u001b[1;31mNameError\u001b[0m                                 Traceback (most recent call last)",
      "Cell \u001b[1;32mIn[1], line 4\u001b[0m\n\u001b[0;32m      1\u001b[0m \u001b[39mimport\u001b[39;00m \u001b[39msys\u001b[39;00m\n\u001b[0;32m      3\u001b[0m \u001b[39m# Initialize Pygame\u001b[39;00m\n\u001b[1;32m----> 4\u001b[0m pygame\u001b[39m.\u001b[39minit()\n\u001b[0;32m      6\u001b[0m \u001b[39m# Constants\u001b[39;00m\n\u001b[0;32m      7\u001b[0m WIDTH, HEIGHT \u001b[39m=\u001b[39m \u001b[39m800\u001b[39m, \u001b[39m600\u001b[39m\n",
      "\u001b[1;31mNameError\u001b[0m: name 'pygame' is not defined"
     ]
    }
   ],
   "source": [
    "import pygame\n",
    "import sys\n",
    "\n",
    "# Initialize Pygame\n",
    "pygame.init()\n",
    "\n",
    "# Constants\n",
    "WIDTH, HEIGHT = 800, 600\n",
    "FPS = 60\n",
    "\n",
    "# Colors\n",
    "WHITE = (255, 255, 255)\n",
    "RED = (255, 0, 0)\n",
    "\n",
    "# Create the game window\n",
    "screen = pygame.display.set_mode((WIDTH, HEIGHT))\n",
    "pygame.display.set_caption(\"Simple Python Game\")\n",
    "\n",
    "# Game loop\n",
    "running = True\n",
    "clock = pygame.time.Clock()\n",
    "\n",
    "while running:\n",
    "    for event in pygame.event.get():\n",
    "        if event.type == pygame.QUIT:\n",
    "            running = False\n",
    "\n",
    "    # Clear the screen\n",
    "    screen.fill(WHITE)\n",
    "\n",
    "    # Draw a red rectangle\n",
    "    pygame.draw.rect(screen, RED, (WIDTH // 2, HEIGHT // 2, 50, 50))\n",
    "\n",
    "    # Update the display\n",
    "    pygame.display.flip()\n",
    "\n",
    "    # Control the frame rate\n",
    "    clock.tick(FPS)\n",
    "\n",
    "# Quit Pygame\n",
    "pygame.quit()\n",
    "sys.exit()"
   ]
  },
  {
   "cell_type": "code",
   "execution_count": 7,
   "metadata": {},
   "outputs": [
    {
     "name": "stdout",
     "output_type": "stream",
     "text": [
      "Number of vowels:  2\n",
      "Number of consonants:  3\n"
     ]
    }
   ],
   "source": [
    "sentence = input(\"Enter a sentece\")\n",
    "vowels = 0\n",
    "consonants = 0\n",
    "\n",
    "for char in sentence:\n",
    "    if char .isalpha():\n",
    "        if char .lower() in ['a', 'e', 'i', 'o', 'u']:\n",
    "            vowels += 1\n",
    "        else :\n",
    "            consonants += 1\n",
    "\n",
    "print(\"Number of vowels: \", vowels)\n",
    "print(\"Number of consonants: \", consonants)"
   ]
  },
  {
   "cell_type": "code",
   "execution_count": 1,
   "metadata": {},
   "outputs": [
    {
     "name": "stdout",
     "output_type": "stream",
     "text": [
      "Number of vowels:  7\n",
      "Number of consonants:  9\n"
     ]
    }
   ],
   "source": [
    "sentence = input(\"Enter a sentece\")\n",
    "vowels = 0\n",
    "consonants = 0\n",
    "\n",
    "for char in sentence:\n",
    "    if char .isalpha():\n",
    "        if char .lower() in ['a', 'e', 'i', 'o', 'u']:\n",
    "            vowels += 1\n",
    "        else :\n",
    "            consonants += 1\n",
    "\n",
    "print(\"Number of vowels: \", vowels)\n",
    "print(\"Number of consonants: \", consonants)"
   ]
  },
  {
   "cell_type": "code",
   "execution_count": 3,
   "metadata": {},
   "outputs": [
    {
     "name": "stdout",
     "output_type": "stream",
     "text": [
      "Number of vowels:  2\n",
      "Number of consonant:  3\n"
     ]
    }
   ],
   "source": [
    "sentence =  input(\"Enter sentence\")\n",
    "vowels = 0\n",
    "consonants = 0\n",
    "\n",
    "for char in sentence:\n",
    "    if char .isalpha():\n",
    "        if char .lower() in ['a', 'e', 'i', 'o', 'u']:\n",
    "            vowels += 1\n",
    "        else :\n",
    "            consonants += 1\n",
    "\n",
    "print(\"Number of vowels: \", vowels)\n",
    "print(\"Number of consonant: \", consonants)\n"
   ]
  },
  {
   "cell_type": "code",
   "execution_count": 5,
   "metadata": {},
   "outputs": [
    {
     "name": "stdout",
     "output_type": "stream",
     "text": [
      "\n",
      "\n",
      "-------------------------______----------------------------\n",
      "1. Name:  Johnston\n",
      "2. Age: 16\n",
      "3. Hometown:  Ayirebi\n",
      "4.armed weapon: Gun\n",
      " power: 98.2\n",
      ">>>>>>I am ready to fight\n",
      "\n",
      "\n",
      "-------------------------______-----------------------------\n"
     ]
    }
   ],
   "source": [
    "skill = input(\"Choose your weapon\")\n",
    "power = [92.5, 98.2, 99.8, 99.9]\n",
    "\n",
    "def printItem(inSkill = skill, idx = 0):\n",
    "    idx += 1\n",
    "    name = input(\"Enter Player name\")\n",
    "    age = 16\n",
    "    hometown = input(\"Hometown\")\n",
    "    print(\"\\n\")\n",
    "    print(\"-------------------------______----------------------------\")\n",
    "\n",
    "    print(\"1. Name: \", name)\n",
    "    print(\"2. Age:\", age)\n",
    "    print(\"3. Hometown: \", hometown)\n",
    "    print (\"4.armed weapon:\",inSkill) \n",
    "    print(\" power:\", power[idx])\n",
    "    print(\">>>>>>I am ready to fight\")\n",
    "    print(\"\\n\")\n",
    "    print(\"-------------------------______-----------------------------\")\n",
    "printItem()"
   ]
  },
  {
   "cell_type": "code",
   "execution_count": null,
   "metadata": {},
   "outputs": [],
   "source": [
    "class Chatbot:\n",
    "    def _ini_ (self)"
   ]
  }
 ],
 "metadata": {
  "kernelspec": {
   "display_name": "Python 3",
   "language": "python",
   "name": "python3"
  },
  "language_info": {
   "codemirror_mode": {
    "name": "ipython",
    "version": 3
   },
   "file_extension": ".py",
   "mimetype": "text/x-python",
   "name": "python",
   "nbconvert_exporter": "python",
   "pygments_lexer": "ipython3",
   "version": "3.10.-1"
  },
  "orig_nbformat": 4
 },
 "nbformat": 4,
 "nbformat_minor": 2
}
